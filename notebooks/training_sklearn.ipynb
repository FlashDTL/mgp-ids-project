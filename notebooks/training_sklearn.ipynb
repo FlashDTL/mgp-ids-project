{
 "cells": [
  {
   "cell_type": "markdown",
   "id": "539b1b3a",
   "metadata": {},
   "source": [
    "# Training examples"
   ]
  },
  {
   "cell_type": "markdown",
   "id": "50e302a0",
   "metadata": {},
   "source": [
    "Examples of training some models. Only sklearn and custom methods."
   ]
  },
  {
   "cell_type": "code",
   "execution_count": 7,
   "id": "d890363c",
   "metadata": {},
   "outputs": [],
   "source": [
    "import numpy as np\n",
    "import pandas as pd\n",
    "import matplotlib.pyplot as plt\n",
    "\n",
    "#from sklearn.preprocessing import LabelEncoder, PolynomialFeatures, StandardScaler\n",
    "#from sklearn.model_selection import train_test_split\n",
    "from sklearn.metrics import accuracy_score, f1_score, confusion_matrix, ConfusionMatrixDisplay\n",
    "\n",
    "from sklearn.svm import SVC\n",
    "from sklearn.model_selection import GridSearchCV"
   ]
  },
  {
   "cell_type": "code",
   "execution_count": 2,
   "id": "0dc2c732",
   "metadata": {},
   "outputs": [],
   "source": [
    "import sys\n",
    "src_path = \"../src/\"\n",
    "sys.path.append(src_path)\n",
    "from training_sklearn import train_rf_grid_cv\n",
    "from preprocessing import preprocess_train, preprocess_test"
   ]
  },
  {
   "cell_type": "markdown",
   "id": "30a8812a",
   "metadata": {},
   "source": [
    "Read and preprocess data"
   ]
  },
  {
   "cell_type": "code",
   "execution_count": 3,
   "id": "349d2af9",
   "metadata": {},
   "outputs": [],
   "source": [
    "# Read data\n",
    "df_train = pd.read_csv(\"../data/music_genre_train.csv\")\n",
    "#df_test = pd.read_csv(\"../data/music_genre_test.csv\")"
   ]
  },
  {
   "cell_type": "code",
   "execution_count": 4,
   "id": "aed8532d",
   "metadata": {},
   "outputs": [],
   "source": [
    "# Preprocess data\n",
    "res_dict = preprocess_train(df_train)\n",
    "df_train = res_dict['dataframe']\n",
    "utils_preprocessing = res_dict['utils']"
   ]
  },
  {
   "cell_type": "code",
   "execution_count": 5,
   "id": "fd961088",
   "metadata": {},
   "outputs": [],
   "source": [
    "X = df_train.drop('music_genre', axis=1)\n",
    "y = df_train['music_genre']"
   ]
  },
  {
   "cell_type": "markdown",
   "id": "64ec08fb",
   "metadata": {},
   "source": [
    "## Random Forest"
   ]
  },
  {
   "cell_type": "markdown",
   "id": "fd29cf69",
   "metadata": {},
   "source": [
    "Perform grid search with cross validation for random forest classifier"
   ]
  },
  {
   "cell_type": "code",
   "execution_count": 7,
   "id": "2bb4da64",
   "metadata": {},
   "outputs": [],
   "source": [
    "param_grid_rf = {\n",
    "        'n_estimators' : [100],\n",
    "        'criterion' : ['entropy'],\n",
    "        'max_depth' : [5, 10, 15],\n",
    "        'min_samples_split' : [5, 20],\n",
    "        'min_samples_leaf' : [5, 20]\n",
    "    }"
   ]
  },
  {
   "cell_type": "code",
   "execution_count": 8,
   "id": "579966a4",
   "metadata": {},
   "outputs": [
    {
     "name": "stdout",
     "output_type": "stream",
     "text": [
      "Fitting 4 folds for each of 12 candidates, totalling 48 fits\n",
      "[CV] END criterion=entropy, max_depth=5, min_samples_leaf=5, min_samples_split=5, n_estimators=100; total time=  20.5s\n",
      "[CV] END criterion=entropy, max_depth=5, min_samples_leaf=5, min_samples_split=5, n_estimators=100; total time=  22.4s\n",
      "[CV] END criterion=entropy, max_depth=5, min_samples_leaf=5, min_samples_split=5, n_estimators=100; total time=  20.4s\n",
      "[CV] END criterion=entropy, max_depth=5, min_samples_leaf=5, min_samples_split=5, n_estimators=100; total time=  19.3s\n",
      "[CV] END criterion=entropy, max_depth=5, min_samples_leaf=5, min_samples_split=20, n_estimators=100; total time=  19.1s\n",
      "[CV] END criterion=entropy, max_depth=5, min_samples_leaf=5, min_samples_split=20, n_estimators=100; total time=  21.6s\n",
      "[CV] END criterion=entropy, max_depth=5, min_samples_leaf=5, min_samples_split=20, n_estimators=100; total time=  20.8s\n",
      "[CV] END criterion=entropy, max_depth=5, min_samples_leaf=5, min_samples_split=20, n_estimators=100; total time=  20.0s\n",
      "[CV] END criterion=entropy, max_depth=5, min_samples_leaf=20, min_samples_split=5, n_estimators=100; total time=  19.4s\n",
      "[CV] END criterion=entropy, max_depth=5, min_samples_leaf=20, min_samples_split=5, n_estimators=100; total time=  20.2s\n",
      "[CV] END criterion=entropy, max_depth=5, min_samples_leaf=20, min_samples_split=5, n_estimators=100; total time=  20.2s\n",
      "[CV] END criterion=entropy, max_depth=5, min_samples_leaf=20, min_samples_split=5, n_estimators=100; total time=  20.1s\n",
      "[CV] END criterion=entropy, max_depth=5, min_samples_leaf=20, min_samples_split=20, n_estimators=100; total time=  19.8s\n",
      "[CV] END criterion=entropy, max_depth=5, min_samples_leaf=20, min_samples_split=20, n_estimators=100; total time=  19.7s\n",
      "[CV] END criterion=entropy, max_depth=5, min_samples_leaf=20, min_samples_split=20, n_estimators=100; total time=  19.8s\n",
      "[CV] END criterion=entropy, max_depth=5, min_samples_leaf=20, min_samples_split=20, n_estimators=100; total time=  19.7s\n",
      "[CV] END criterion=entropy, max_depth=10, min_samples_leaf=5, min_samples_split=5, n_estimators=100; total time=  36.0s\n",
      "[CV] END criterion=entropy, max_depth=10, min_samples_leaf=5, min_samples_split=5, n_estimators=100; total time=  34.6s\n",
      "[CV] END criterion=entropy, max_depth=10, min_samples_leaf=5, min_samples_split=5, n_estimators=100; total time=  36.5s\n",
      "[CV] END criterion=entropy, max_depth=10, min_samples_leaf=5, min_samples_split=5, n_estimators=100; total time=  37.0s\n",
      "[CV] END criterion=entropy, max_depth=10, min_samples_leaf=5, min_samples_split=20, n_estimators=100; total time=  33.6s\n",
      "[CV] END criterion=entropy, max_depth=10, min_samples_leaf=5, min_samples_split=20, n_estimators=100; total time=  34.0s\n",
      "[CV] END criterion=entropy, max_depth=10, min_samples_leaf=5, min_samples_split=20, n_estimators=100; total time=  33.4s\n",
      "[CV] END criterion=entropy, max_depth=10, min_samples_leaf=5, min_samples_split=20, n_estimators=100; total time=  33.2s\n",
      "[CV] END criterion=entropy, max_depth=10, min_samples_leaf=20, min_samples_split=5, n_estimators=100; total time=  31.4s\n",
      "[CV] END criterion=entropy, max_depth=10, min_samples_leaf=20, min_samples_split=5, n_estimators=100; total time=  31.1s\n",
      "[CV] END criterion=entropy, max_depth=10, min_samples_leaf=20, min_samples_split=5, n_estimators=100; total time=  31.4s\n",
      "[CV] END criterion=entropy, max_depth=10, min_samples_leaf=20, min_samples_split=5, n_estimators=100; total time=  31.1s\n",
      "[CV] END criterion=entropy, max_depth=10, min_samples_leaf=20, min_samples_split=20, n_estimators=100; total time=  31.4s\n",
      "[CV] END criterion=entropy, max_depth=10, min_samples_leaf=20, min_samples_split=20, n_estimators=100; total time=  31.2s\n",
      "[CV] END criterion=entropy, max_depth=10, min_samples_leaf=20, min_samples_split=20, n_estimators=100; total time=  31.2s\n",
      "[CV] END criterion=entropy, max_depth=10, min_samples_leaf=20, min_samples_split=20, n_estimators=100; total time=  31.3s\n",
      "[CV] END criterion=entropy, max_depth=15, min_samples_leaf=5, min_samples_split=5, n_estimators=100; total time=  38.9s\n",
      "[CV] END criterion=entropy, max_depth=15, min_samples_leaf=5, min_samples_split=5, n_estimators=100; total time=  38.8s\n",
      "[CV] END criterion=entropy, max_depth=15, min_samples_leaf=5, min_samples_split=5, n_estimators=100; total time=  42.2s\n",
      "[CV] END criterion=entropy, max_depth=15, min_samples_leaf=5, min_samples_split=5, n_estimators=100; total time=  40.5s\n",
      "[CV] END criterion=entropy, max_depth=15, min_samples_leaf=5, min_samples_split=20, n_estimators=100; total time=  38.4s\n",
      "[CV] END criterion=entropy, max_depth=15, min_samples_leaf=5, min_samples_split=20, n_estimators=100; total time=  38.4s\n",
      "[CV] END criterion=entropy, max_depth=15, min_samples_leaf=5, min_samples_split=20, n_estimators=100; total time=  38.1s\n",
      "[CV] END criterion=entropy, max_depth=15, min_samples_leaf=5, min_samples_split=20, n_estimators=100; total time=  38.2s\n",
      "[CV] END criterion=entropy, max_depth=15, min_samples_leaf=20, min_samples_split=5, n_estimators=100; total time=  34.0s\n",
      "[CV] END criterion=entropy, max_depth=15, min_samples_leaf=20, min_samples_split=5, n_estimators=100; total time=  33.3s\n",
      "[CV] END criterion=entropy, max_depth=15, min_samples_leaf=20, min_samples_split=5, n_estimators=100; total time=  33.1s\n",
      "[CV] END criterion=entropy, max_depth=15, min_samples_leaf=20, min_samples_split=5, n_estimators=100; total time=  33.6s\n",
      "[CV] END criterion=entropy, max_depth=15, min_samples_leaf=20, min_samples_split=20, n_estimators=100; total time=  32.9s\n",
      "[CV] END criterion=entropy, max_depth=15, min_samples_leaf=20, min_samples_split=20, n_estimators=100; total time=  33.2s\n",
      "[CV] END criterion=entropy, max_depth=15, min_samples_leaf=20, min_samples_split=20, n_estimators=100; total time=  33.2s\n",
      "[CV] END criterion=entropy, max_depth=15, min_samples_leaf=20, min_samples_split=20, n_estimators=100; total time=  33.3s\n"
     ]
    }
   ],
   "source": [
    "res_gs_cv_rf = train_rf_grid_cv(X, y, param_grid_rf)"
   ]
  },
  {
   "cell_type": "code",
   "execution_count": 9,
   "id": "13ad694a",
   "metadata": {},
   "outputs": [
    {
     "data": {
      "text/plain": [
       "{'best_estimator': RandomForestClassifier(criterion='entropy', max_depth=10, min_samples_leaf=5,\n",
       "                        min_samples_split=20),\n",
       " 'best_accuracy': 0.5717767017023209,\n",
       " 'best_params': {'criterion': 'entropy',\n",
       "  'max_depth': 10,\n",
       "  'min_samples_leaf': 5,\n",
       "  'min_samples_split': 20,\n",
       "  'n_estimators': 100}}"
      ]
     },
     "execution_count": 9,
     "metadata": {},
     "output_type": "execute_result"
    }
   ],
   "source": [
    "res_gs_cv_rf"
   ]
  },
  {
   "cell_type": "markdown",
   "id": "3173e547",
   "metadata": {},
   "source": [
    "Get best model"
   ]
  },
  {
   "cell_type": "code",
   "execution_count": 10,
   "id": "b4a6cde7",
   "metadata": {},
   "outputs": [],
   "source": [
    "model_best = res_gs_cv_rf['best_estimator']"
   ]
  },
  {
   "cell_type": "markdown",
   "id": "9932ee78",
   "metadata": {},
   "source": [
    "Save model"
   ]
  },
  {
   "cell_type": "code",
   "execution_count": 13,
   "id": "c12a7074",
   "metadata": {},
   "outputs": [
    {
     "data": {
      "text/plain": [
       "['../models/rf_0_572/random_forest.joblib']"
      ]
     },
     "execution_count": 13,
     "metadata": {},
     "output_type": "execute_result"
    }
   ],
   "source": [
    "from joblib import dump\n",
    "dump(model_best, '../models/rf_0_572/random_forest.joblib') "
   ]
  },
  {
   "cell_type": "markdown",
   "id": "5aa81c99",
   "metadata": {},
   "source": [
    "## SVM"
   ]
  },
  {
   "cell_type": "markdown",
   "id": "74387401",
   "metadata": {},
   "source": [
    "Now let's try SVM classifier"
   ]
  },
  {
   "cell_type": "code",
   "execution_count": 8,
   "id": "0aa510fb",
   "metadata": {},
   "outputs": [],
   "source": [
    "model_svc = SVC(\n",
    "    kernel = 'rbf'\n",
    ")"
   ]
  },
  {
   "cell_type": "code",
   "execution_count": 10,
   "id": "ae149af6",
   "metadata": {},
   "outputs": [],
   "source": [
    "param_grid_svm = {\n",
    "    'C' : [1, 0.999, 0.99]\n",
    "}"
   ]
  },
  {
   "cell_type": "code",
   "execution_count": 11,
   "id": "b6cfa3a8",
   "metadata": {},
   "outputs": [],
   "source": [
    "svm_gs_cv = GridSearchCV(\n",
    "    estimator = model_svc,\n",
    "    param_grid = param_grid_svm,\n",
    "    scoring = 'accuracy',\n",
    "    cv = 4,\n",
    "    verbose = 2\n",
    ")"
   ]
  },
  {
   "cell_type": "code",
   "execution_count": 12,
   "id": "48dfad67",
   "metadata": {},
   "outputs": [
    {
     "name": "stdout",
     "output_type": "stream",
     "text": [
      "Fitting 4 folds for each of 3 candidates, totalling 12 fits\n",
      "[CV] END ................................................C=1; total time= 1.3min\n",
      "[CV] END ................................................C=1; total time= 1.2min\n",
      "[CV] END ................................................C=1; total time= 1.1min\n",
      "[CV] END ................................................C=1; total time= 1.1min\n",
      "[CV] END ............................................C=0.999; total time= 1.1min\n",
      "[CV] END ............................................C=0.999; total time= 1.1min\n",
      "[CV] END ............................................C=0.999; total time= 1.3min\n",
      "[CV] END ............................................C=0.999; total time= 1.2min\n",
      "[CV] END .............................................C=0.99; total time= 1.1min\n",
      "[CV] END .............................................C=0.99; total time= 1.1min\n",
      "[CV] END .............................................C=0.99; total time= 1.1min\n",
      "[CV] END .............................................C=0.99; total time= 1.1min\n"
     ]
    },
    {
     "data": {
      "text/plain": [
       "GridSearchCV(cv=4, estimator=SVC(), param_grid={'C': [1, 0.999, 0.99]},\n",
       "             scoring='accuracy', verbose=2)"
      ]
     },
     "execution_count": 12,
     "metadata": {},
     "output_type": "execute_result"
    }
   ],
   "source": [
    "svm_gs_cv.fit(X, y)"
   ]
  },
  {
   "cell_type": "code",
   "execution_count": 13,
   "id": "1af27058",
   "metadata": {},
   "outputs": [],
   "source": [
    "model_svm = svm_gs_cv.best_estimator_\n",
    "acc_svm = svm_gs_cv.best_score_\n",
    "params_svm = svm_gs_cv.best_params_"
   ]
  },
  {
   "cell_type": "code",
   "execution_count": 18,
   "id": "731c4aa0",
   "metadata": {},
   "outputs": [
    {
     "name": "stdout",
     "output_type": "stream",
     "text": [
      "acc: 0.5751072824059867\n",
      "params: {'C': 0.999}\n"
     ]
    }
   ],
   "source": [
    "print(\"acc:\", acc_svm)\n",
    "print(\"params:\", params_svm)"
   ]
  },
  {
   "cell_type": "code",
   "execution_count": 19,
   "id": "d85695e8",
   "metadata": {},
   "outputs": [
    {
     "data": {
      "text/plain": [
       "['../models/svm_0_575/svm.joblib']"
      ]
     },
     "execution_count": 19,
     "metadata": {},
     "output_type": "execute_result"
    }
   ],
   "source": [
    "from joblib import dump\n",
    "dump(model_svm, '../models/svm_0_575/svm.joblib') "
   ]
  }
 ],
 "metadata": {
  "kernelspec": {
   "display_name": "Python 3 (ipykernel)",
   "language": "python",
   "name": "python3"
  },
  "language_info": {
   "codemirror_mode": {
    "name": "ipython",
    "version": 3
   },
   "file_extension": ".py",
   "mimetype": "text/x-python",
   "name": "python",
   "nbconvert_exporter": "python",
   "pygments_lexer": "ipython3",
   "version": "3.9.7"
  }
 },
 "nbformat": 4,
 "nbformat_minor": 5
}
